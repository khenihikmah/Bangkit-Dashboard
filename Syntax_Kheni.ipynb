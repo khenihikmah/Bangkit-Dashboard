{
  "cells": [
    {
      "cell_type": "markdown",
      "metadata": {
        "id": "H9wADwK78DCz"
      },
      "source": [
        "# Proyek Analisis Data: [Bike Sharing Dataset (Day)]\n",
        "- **Nama:** [Kheni Hikmah Lestari]\n",
        "- **Email:** [m001d4kx1593@bangkit.academy]\n",
        "- **ID Dicoding:** [khenihikmah130303]"
      ]
    },
    {
      "cell_type": "markdown",
      "metadata": {
        "id": "eE0raob58DC0"
      },
      "source": [
        "## Menentukan Pertanyaan Bisnis"
      ]
    },
    {
      "cell_type": "markdown",
      "metadata": {
        "id": "GmQeQ5YF8DC0"
      },
      "source": [
        "- Pada musim apa saja total sewa sepeda paling banyak dan paling sedikit?\n",
        "- Bagaimana total sewa sepeda?"
      ]
    },
    {
      "cell_type": "markdown",
      "metadata": {
        "id": "H-z4QGlO8DC1"
      },
      "source": [
        "## Import Semua Packages/Library yang Digunakan"
      ]
    },
    {
      "cell_type": "code",
      "execution_count": 33,
      "metadata": {},
      "outputs": [],
      "source": [
        "import numpy as np\n",
        "import pandas as pd\n",
        "import matplotlib.pyplot as plt\n",
        "import seaborn as sns"
      ]
    },
    {
      "cell_type": "markdown",
      "metadata": {
        "id": "h_Sh51Xy8DC1"
      },
      "source": [
        "## Data Wrangling"
      ]
    },
    {
      "cell_type": "markdown",
      "metadata": {
        "id": "sXU2GBYu8DC1"
      },
      "source": [
        "### Gathering Data"
      ]
    },
    {
      "cell_type": "markdown",
      "metadata": {
        "id": "fJHH7FsCZIYk"
      },
      "source": [
        "### Read CSV"
      ]
    },
    {
      "cell_type": "code",
      "execution_count": 34,
      "metadata": {
        "colab": {
          "base_uri": "https://localhost:8080/"
        },
        "id": "zjCBk1BI8DC1",
        "outputId": "89894a95-47ca-4daa-8784-3bb83f0e35d1"
      },
      "outputs": [
        {
          "data": {
            "text/html": [
              "<div>\n",
              "<style scoped>\n",
              "    .dataframe tbody tr th:only-of-type {\n",
              "        vertical-align: middle;\n",
              "    }\n",
              "\n",
              "    .dataframe tbody tr th {\n",
              "        vertical-align: top;\n",
              "    }\n",
              "\n",
              "    .dataframe thead th {\n",
              "        text-align: right;\n",
              "    }\n",
              "</style>\n",
              "<table border=\"1\" class=\"dataframe\">\n",
              "  <thead>\n",
              "    <tr style=\"text-align: right;\">\n",
              "      <th></th>\n",
              "      <th>instant</th>\n",
              "      <th>dteday</th>\n",
              "      <th>season</th>\n",
              "      <th>yr</th>\n",
              "      <th>mnth</th>\n",
              "      <th>holiday</th>\n",
              "      <th>weekday</th>\n",
              "      <th>workingday</th>\n",
              "      <th>weathersit</th>\n",
              "      <th>temp</th>\n",
              "      <th>atemp</th>\n",
              "      <th>hum</th>\n",
              "      <th>windspeed</th>\n",
              "      <th>casual</th>\n",
              "      <th>registered</th>\n",
              "      <th>cnt</th>\n",
              "    </tr>\n",
              "  </thead>\n",
              "  <tbody>\n",
              "    <tr>\n",
              "      <th>0</th>\n",
              "      <td>1</td>\n",
              "      <td>2011-01-01</td>\n",
              "      <td>1</td>\n",
              "      <td>0</td>\n",
              "      <td>1</td>\n",
              "      <td>0</td>\n",
              "      <td>6</td>\n",
              "      <td>0</td>\n",
              "      <td>2</td>\n",
              "      <td>0.344167</td>\n",
              "      <td>0.363625</td>\n",
              "      <td>0.805833</td>\n",
              "      <td>0.160446</td>\n",
              "      <td>331</td>\n",
              "      <td>654</td>\n",
              "      <td>985</td>\n",
              "    </tr>\n",
              "    <tr>\n",
              "      <th>1</th>\n",
              "      <td>2</td>\n",
              "      <td>2011-01-02</td>\n",
              "      <td>1</td>\n",
              "      <td>0</td>\n",
              "      <td>1</td>\n",
              "      <td>0</td>\n",
              "      <td>0</td>\n",
              "      <td>0</td>\n",
              "      <td>2</td>\n",
              "      <td>0.363478</td>\n",
              "      <td>0.353739</td>\n",
              "      <td>0.696087</td>\n",
              "      <td>0.248539</td>\n",
              "      <td>131</td>\n",
              "      <td>670</td>\n",
              "      <td>801</td>\n",
              "    </tr>\n",
              "    <tr>\n",
              "      <th>2</th>\n",
              "      <td>3</td>\n",
              "      <td>2011-01-03</td>\n",
              "      <td>1</td>\n",
              "      <td>0</td>\n",
              "      <td>1</td>\n",
              "      <td>0</td>\n",
              "      <td>1</td>\n",
              "      <td>1</td>\n",
              "      <td>1</td>\n",
              "      <td>0.196364</td>\n",
              "      <td>0.189405</td>\n",
              "      <td>0.437273</td>\n",
              "      <td>0.248309</td>\n",
              "      <td>120</td>\n",
              "      <td>1229</td>\n",
              "      <td>1349</td>\n",
              "    </tr>\n",
              "    <tr>\n",
              "      <th>3</th>\n",
              "      <td>4</td>\n",
              "      <td>2011-01-04</td>\n",
              "      <td>1</td>\n",
              "      <td>0</td>\n",
              "      <td>1</td>\n",
              "      <td>0</td>\n",
              "      <td>2</td>\n",
              "      <td>1</td>\n",
              "      <td>1</td>\n",
              "      <td>0.200000</td>\n",
              "      <td>0.212122</td>\n",
              "      <td>0.590435</td>\n",
              "      <td>0.160296</td>\n",
              "      <td>108</td>\n",
              "      <td>1454</td>\n",
              "      <td>1562</td>\n",
              "    </tr>\n",
              "    <tr>\n",
              "      <th>4</th>\n",
              "      <td>5</td>\n",
              "      <td>2011-01-05</td>\n",
              "      <td>1</td>\n",
              "      <td>0</td>\n",
              "      <td>1</td>\n",
              "      <td>0</td>\n",
              "      <td>3</td>\n",
              "      <td>1</td>\n",
              "      <td>1</td>\n",
              "      <td>0.226957</td>\n",
              "      <td>0.229270</td>\n",
              "      <td>0.436957</td>\n",
              "      <td>0.186900</td>\n",
              "      <td>82</td>\n",
              "      <td>1518</td>\n",
              "      <td>1600</td>\n",
              "    </tr>\n",
              "    <tr>\n",
              "      <th>5</th>\n",
              "      <td>6</td>\n",
              "      <td>2011-01-06</td>\n",
              "      <td>1</td>\n",
              "      <td>0</td>\n",
              "      <td>1</td>\n",
              "      <td>0</td>\n",
              "      <td>4</td>\n",
              "      <td>1</td>\n",
              "      <td>1</td>\n",
              "      <td>0.204348</td>\n",
              "      <td>0.233209</td>\n",
              "      <td>0.518261</td>\n",
              "      <td>0.089565</td>\n",
              "      <td>88</td>\n",
              "      <td>1518</td>\n",
              "      <td>1606</td>\n",
              "    </tr>\n",
              "    <tr>\n",
              "      <th>6</th>\n",
              "      <td>7</td>\n",
              "      <td>2011-01-07</td>\n",
              "      <td>1</td>\n",
              "      <td>0</td>\n",
              "      <td>1</td>\n",
              "      <td>0</td>\n",
              "      <td>5</td>\n",
              "      <td>1</td>\n",
              "      <td>2</td>\n",
              "      <td>0.196522</td>\n",
              "      <td>0.208839</td>\n",
              "      <td>0.498696</td>\n",
              "      <td>0.168726</td>\n",
              "      <td>148</td>\n",
              "      <td>1362</td>\n",
              "      <td>1510</td>\n",
              "    </tr>\n",
              "    <tr>\n",
              "      <th>7</th>\n",
              "      <td>8</td>\n",
              "      <td>2011-01-08</td>\n",
              "      <td>1</td>\n",
              "      <td>0</td>\n",
              "      <td>1</td>\n",
              "      <td>0</td>\n",
              "      <td>6</td>\n",
              "      <td>0</td>\n",
              "      <td>2</td>\n",
              "      <td>0.165000</td>\n",
              "      <td>0.162254</td>\n",
              "      <td>0.535833</td>\n",
              "      <td>0.266804</td>\n",
              "      <td>68</td>\n",
              "      <td>891</td>\n",
              "      <td>959</td>\n",
              "    </tr>\n",
              "    <tr>\n",
              "      <th>8</th>\n",
              "      <td>9</td>\n",
              "      <td>2011-01-09</td>\n",
              "      <td>1</td>\n",
              "      <td>0</td>\n",
              "      <td>1</td>\n",
              "      <td>0</td>\n",
              "      <td>0</td>\n",
              "      <td>0</td>\n",
              "      <td>1</td>\n",
              "      <td>0.138333</td>\n",
              "      <td>0.116175</td>\n",
              "      <td>0.434167</td>\n",
              "      <td>0.361950</td>\n",
              "      <td>54</td>\n",
              "      <td>768</td>\n",
              "      <td>822</td>\n",
              "    </tr>\n",
              "    <tr>\n",
              "      <th>9</th>\n",
              "      <td>10</td>\n",
              "      <td>2011-01-10</td>\n",
              "      <td>1</td>\n",
              "      <td>0</td>\n",
              "      <td>1</td>\n",
              "      <td>0</td>\n",
              "      <td>1</td>\n",
              "      <td>1</td>\n",
              "      <td>1</td>\n",
              "      <td>0.150833</td>\n",
              "      <td>0.150888</td>\n",
              "      <td>0.482917</td>\n",
              "      <td>0.223267</td>\n",
              "      <td>41</td>\n",
              "      <td>1280</td>\n",
              "      <td>1321</td>\n",
              "    </tr>\n",
              "    <tr>\n",
              "      <th>10</th>\n",
              "      <td>11</td>\n",
              "      <td>2011-01-11</td>\n",
              "      <td>1</td>\n",
              "      <td>0</td>\n",
              "      <td>1</td>\n",
              "      <td>0</td>\n",
              "      <td>2</td>\n",
              "      <td>1</td>\n",
              "      <td>2</td>\n",
              "      <td>0.169091</td>\n",
              "      <td>0.191464</td>\n",
              "      <td>0.686364</td>\n",
              "      <td>0.122132</td>\n",
              "      <td>43</td>\n",
              "      <td>1220</td>\n",
              "      <td>1263</td>\n",
              "    </tr>\n",
              "    <tr>\n",
              "      <th>11</th>\n",
              "      <td>12</td>\n",
              "      <td>2011-01-12</td>\n",
              "      <td>1</td>\n",
              "      <td>0</td>\n",
              "      <td>1</td>\n",
              "      <td>0</td>\n",
              "      <td>3</td>\n",
              "      <td>1</td>\n",
              "      <td>1</td>\n",
              "      <td>0.172727</td>\n",
              "      <td>0.160473</td>\n",
              "      <td>0.599545</td>\n",
              "      <td>0.304627</td>\n",
              "      <td>25</td>\n",
              "      <td>1137</td>\n",
              "      <td>1162</td>\n",
              "    </tr>\n",
              "    <tr>\n",
              "      <th>12</th>\n",
              "      <td>13</td>\n",
              "      <td>2011-01-13</td>\n",
              "      <td>1</td>\n",
              "      <td>0</td>\n",
              "      <td>1</td>\n",
              "      <td>0</td>\n",
              "      <td>4</td>\n",
              "      <td>1</td>\n",
              "      <td>1</td>\n",
              "      <td>0.165000</td>\n",
              "      <td>0.150883</td>\n",
              "      <td>0.470417</td>\n",
              "      <td>0.301000</td>\n",
              "      <td>38</td>\n",
              "      <td>1368</td>\n",
              "      <td>1406</td>\n",
              "    </tr>\n",
              "    <tr>\n",
              "      <th>13</th>\n",
              "      <td>14</td>\n",
              "      <td>2011-01-14</td>\n",
              "      <td>1</td>\n",
              "      <td>0</td>\n",
              "      <td>1</td>\n",
              "      <td>0</td>\n",
              "      <td>5</td>\n",
              "      <td>1</td>\n",
              "      <td>1</td>\n",
              "      <td>0.160870</td>\n",
              "      <td>0.188413</td>\n",
              "      <td>0.537826</td>\n",
              "      <td>0.126548</td>\n",
              "      <td>54</td>\n",
              "      <td>1367</td>\n",
              "      <td>1421</td>\n",
              "    </tr>\n",
              "    <tr>\n",
              "      <th>14</th>\n",
              "      <td>15</td>\n",
              "      <td>2011-01-15</td>\n",
              "      <td>1</td>\n",
              "      <td>0</td>\n",
              "      <td>1</td>\n",
              "      <td>0</td>\n",
              "      <td>6</td>\n",
              "      <td>0</td>\n",
              "      <td>2</td>\n",
              "      <td>0.233333</td>\n",
              "      <td>0.248112</td>\n",
              "      <td>0.498750</td>\n",
              "      <td>0.157963</td>\n",
              "      <td>222</td>\n",
              "      <td>1026</td>\n",
              "      <td>1248</td>\n",
              "    </tr>\n",
              "  </tbody>\n",
              "</table>\n",
              "</div>"
            ],
            "text/plain": [
              "    instant      dteday  season  yr  mnth  holiday  weekday  workingday  \\\n",
              "0         1  2011-01-01       1   0     1        0        6           0   \n",
              "1         2  2011-01-02       1   0     1        0        0           0   \n",
              "2         3  2011-01-03       1   0     1        0        1           1   \n",
              "3         4  2011-01-04       1   0     1        0        2           1   \n",
              "4         5  2011-01-05       1   0     1        0        3           1   \n",
              "5         6  2011-01-06       1   0     1        0        4           1   \n",
              "6         7  2011-01-07       1   0     1        0        5           1   \n",
              "7         8  2011-01-08       1   0     1        0        6           0   \n",
              "8         9  2011-01-09       1   0     1        0        0           0   \n",
              "9        10  2011-01-10       1   0     1        0        1           1   \n",
              "10       11  2011-01-11       1   0     1        0        2           1   \n",
              "11       12  2011-01-12       1   0     1        0        3           1   \n",
              "12       13  2011-01-13       1   0     1        0        4           1   \n",
              "13       14  2011-01-14       1   0     1        0        5           1   \n",
              "14       15  2011-01-15       1   0     1        0        6           0   \n",
              "\n",
              "    weathersit      temp     atemp       hum  windspeed  casual  registered  \\\n",
              "0            2  0.344167  0.363625  0.805833   0.160446     331         654   \n",
              "1            2  0.363478  0.353739  0.696087   0.248539     131         670   \n",
              "2            1  0.196364  0.189405  0.437273   0.248309     120        1229   \n",
              "3            1  0.200000  0.212122  0.590435   0.160296     108        1454   \n",
              "4            1  0.226957  0.229270  0.436957   0.186900      82        1518   \n",
              "5            1  0.204348  0.233209  0.518261   0.089565      88        1518   \n",
              "6            2  0.196522  0.208839  0.498696   0.168726     148        1362   \n",
              "7            2  0.165000  0.162254  0.535833   0.266804      68         891   \n",
              "8            1  0.138333  0.116175  0.434167   0.361950      54         768   \n",
              "9            1  0.150833  0.150888  0.482917   0.223267      41        1280   \n",
              "10           2  0.169091  0.191464  0.686364   0.122132      43        1220   \n",
              "11           1  0.172727  0.160473  0.599545   0.304627      25        1137   \n",
              "12           1  0.165000  0.150883  0.470417   0.301000      38        1368   \n",
              "13           1  0.160870  0.188413  0.537826   0.126548      54        1367   \n",
              "14           2  0.233333  0.248112  0.498750   0.157963     222        1026   \n",
              "\n",
              "     cnt  \n",
              "0    985  \n",
              "1    801  \n",
              "2   1349  \n",
              "3   1562  \n",
              "4   1600  \n",
              "5   1606  \n",
              "6   1510  \n",
              "7    959  \n",
              "8    822  \n",
              "9   1321  \n",
              "10  1263  \n",
              "11  1162  \n",
              "12  1406  \n",
              "13  1421  \n",
              "14  1248  "
            ]
          },
          "execution_count": 34,
          "metadata": {},
          "output_type": "execute_result"
        }
      ],
      "source": [
        "data = pd.read_csv('https://raw.githubusercontent.com/khenihikmah/Bangkit-Dashboard/master/dashboard/day.csv')\n",
        "data.head(15)"
      ]
    },
    {
      "cell_type": "markdown",
      "metadata": {
        "id": "33nL6n8yZcHz"
      },
      "source": [
        "**Penjelasan data**\n",
        "\n",
        "Data yang digunakan yaitu data \"Bike Sharing per day\" dengan keterangan sebagai berikut:\n",
        "1. instant: record index\n",
        "2. dteday : date\n",
        "3. season : season (blue:springer, red:summer, black:fall, green:winter)\n",
        "4. yr : year (0: 2011, 1:2012)\n",
        "5. mnth : month ( 1 to 12)\n",
        "6. holiday : weather day is holiday or not (extracted from http://dchr.dc.gov/page/holiday-schedule)\n",
        "7. weekday : day of the week\n",
        "8. workingday : if day is neither weekend nor holiday is 1, otherwise is 0.- -\n",
        "9. temp : Normalized temperature in Celsius. The values are divided to 41 (max)\n",
        "10. atemp: Normalized feeling temperature in Celsius. The values are divided to 50 (max)\n",
        "11. hum: Normalized humidity. The values are divided to 100 (max)\n",
        "12. windspeed: Normalized wind speed. The values are divided to 67 (max)\n",
        "13. casual: count of casual users\n",
        "14. registered: count of registered users\n",
        "15. cnt: count of total rental bikes including both casual and registered\n"
      ]
    },
    {
      "cell_type": "markdown",
      "metadata": {},
      "source": [
        "### Assessing Data\n"
      ]
    },
    {
      "cell_type": "code",
      "execution_count": 35,
      "metadata": {
        "colab": {
          "base_uri": "https://localhost:8080/"
        },
        "id": "mG7VerSlZf2U",
        "outputId": "8d48b05b-c105-4232-fe57-6946093e7cca"
      },
      "outputs": [
        {
          "name": "stdout",
          "output_type": "stream",
          "text": [
            "<class 'pandas.core.frame.DataFrame'>\n",
            "RangeIndex: 35064 entries, 0 to 35063\n",
            "Data columns (total 18 columns):\n",
            " #   Column   Non-Null Count  Dtype  \n",
            "---  ------   --------------  -----  \n",
            " 0   No       35064 non-null  int64  \n",
            " 1   year     35064 non-null  int64  \n",
            " 2   month    35064 non-null  int64  \n",
            " 3   day      35064 non-null  int64  \n",
            " 4   hour     35064 non-null  int64  \n",
            " 5   PM2.5    34387 non-null  float64\n",
            " 6   PM10     34467 non-null  float64\n",
            " 7   SO2      33946 non-null  float64\n",
            " 8   NO2      34320 non-null  float64\n",
            " 9   CO       33938 non-null  float64\n",
            " 10  O3       34221 non-null  float64\n",
            " 11  TEMP     35044 non-null  float64\n",
            " 12  PRES     35044 non-null  float64\n",
            " 13  DEWP     35044 non-null  float64\n",
            " 14  RAIN     35044 non-null  float64\n",
            " 15  wd       34986 non-null  object \n",
            " 16  WSPM     35050 non-null  float64\n",
            " 17  station  35064 non-null  object \n",
            "dtypes: float64(11), int64(5), object(2)\n",
            "memory usage: 4.8+ MB\n"
          ]
        }
      ],
      "source": [
        "df.info()"
      ]
    },
    {
      "cell_type": "markdown",
      "metadata": {
        "id": "z5PR-dxjiy4t"
      },
      "source": [
        "Tipe data yang akan digunakan adalah *integer, float dan objec*t. Terdapat beberapa tipe data yang menjadi perhatian diantaranya adalah\n",
        "1. Peubah ***dteday*** merupakan peubah yang bertipe *object*, padahal peubah tersebut merupakan tanggal, yang seharusnya bertipe data *datetime*.\n",
        "2. Peubah ***season, year, month, holiday, weekday, workingday, weathersit***:merupakan peubah yang bertipe *integer*, padahal peubah-peubah tersebut merupakan peubah bertipe *category*."
      ]
    },
    {
      "cell_type": "markdown",
      "metadata": {
        "id": "vMo3TuPyXDlY"
      },
      "source": [
        "#### Handling missing value"
      ]
    },
    {
      "cell_type": "markdown",
      "metadata": {
        "id": "ymOUIIp7epN-"
      },
      "source": [
        "#### Detect Missing Value"
      ]
    },
    {
      "cell_type": "code",
      "execution_count": 36,
      "metadata": {
        "colab": {
          "base_uri": "https://localhost:8080/"
        },
        "id": "1i4MmPj_euv6",
        "outputId": "fd42b327-8485-4dd0-add4-c5a9ad8f1e2d"
      },
      "outputs": [
        {
          "data": {
            "text/plain": [
              "instant       0\n",
              "dteday        0\n",
              "season        0\n",
              "yr            0\n",
              "mnth          0\n",
              "holiday       0\n",
              "weekday       0\n",
              "workingday    0\n",
              "weathersit    0\n",
              "temp          0\n",
              "atemp         0\n",
              "hum           0\n",
              "windspeed     0\n",
              "casual        0\n",
              "registered    0\n",
              "cnt           0\n",
              "dtype: int64"
            ]
          },
          "execution_count": 36,
          "metadata": {},
          "output_type": "execute_result"
        }
      ],
      "source": [
        "data.isna().sum()"
      ]
    },
    {
      "cell_type": "markdown",
      "metadata": {
        "id": "nNBahPWmjHqA"
      },
      "source": [
        "Interpretasi :\n",
        "Dapat dilihat bahwa data tidak terdapat missing value atau datanya lengkap."
      ]
    },
    {
      "cell_type": "markdown",
      "metadata": {},
      "source": [
        "### Memeriksa Duplicate Data"
      ]
    },
    {
      "cell_type": "code",
      "execution_count": 37,
      "metadata": {},
      "outputs": [
        {
          "name": "stdout",
          "output_type": "stream",
          "text": [
            "Duplicate:  0\n"
          ]
        }
      ],
      "source": [
        "print(\"Duplicate: \", data.duplicated().sum())"
      ]
    },
    {
      "cell_type": "markdown",
      "metadata": {},
      "source": [
        "Tidak terdapat masalah duplikasi pada data."
      ]
    },
    {
      "cell_type": "markdown",
      "metadata": {},
      "source": [
        "**Memeriksa Parameter Statistik dari Kolom Numerik**"
      ]
    },
    {
      "cell_type": "code",
      "execution_count": 38,
      "metadata": {},
      "outputs": [
        {
          "data": {
            "text/html": [
              "<div>\n",
              "<style scoped>\n",
              "    .dataframe tbody tr th:only-of-type {\n",
              "        vertical-align: middle;\n",
              "    }\n",
              "\n",
              "    .dataframe tbody tr th {\n",
              "        vertical-align: top;\n",
              "    }\n",
              "\n",
              "    .dataframe thead th {\n",
              "        text-align: right;\n",
              "    }\n",
              "</style>\n",
              "<table border=\"1\" class=\"dataframe\">\n",
              "  <thead>\n",
              "    <tr style=\"text-align: right;\">\n",
              "      <th></th>\n",
              "      <th>temp</th>\n",
              "      <th>atemp</th>\n",
              "      <th>hum</th>\n",
              "      <th>windspeed</th>\n",
              "      <th>casual</th>\n",
              "      <th>registered</th>\n",
              "      <th>cnt</th>\n",
              "    </tr>\n",
              "  </thead>\n",
              "  <tbody>\n",
              "    <tr>\n",
              "      <th>count</th>\n",
              "      <td>731.000000</td>\n",
              "      <td>731.000000</td>\n",
              "      <td>731.000000</td>\n",
              "      <td>731.000000</td>\n",
              "      <td>731.000000</td>\n",
              "      <td>731.000000</td>\n",
              "      <td>731.000000</td>\n",
              "    </tr>\n",
              "    <tr>\n",
              "      <th>mean</th>\n",
              "      <td>0.495385</td>\n",
              "      <td>0.474354</td>\n",
              "      <td>0.627894</td>\n",
              "      <td>0.190486</td>\n",
              "      <td>848.176471</td>\n",
              "      <td>3656.172367</td>\n",
              "      <td>4504.348837</td>\n",
              "    </tr>\n",
              "    <tr>\n",
              "      <th>std</th>\n",
              "      <td>0.183051</td>\n",
              "      <td>0.162961</td>\n",
              "      <td>0.142429</td>\n",
              "      <td>0.077498</td>\n",
              "      <td>686.622488</td>\n",
              "      <td>1560.256377</td>\n",
              "      <td>1937.211452</td>\n",
              "    </tr>\n",
              "    <tr>\n",
              "      <th>min</th>\n",
              "      <td>0.059130</td>\n",
              "      <td>0.079070</td>\n",
              "      <td>0.000000</td>\n",
              "      <td>0.022392</td>\n",
              "      <td>2.000000</td>\n",
              "      <td>20.000000</td>\n",
              "      <td>22.000000</td>\n",
              "    </tr>\n",
              "    <tr>\n",
              "      <th>25%</th>\n",
              "      <td>0.337083</td>\n",
              "      <td>0.337842</td>\n",
              "      <td>0.520000</td>\n",
              "      <td>0.134950</td>\n",
              "      <td>315.500000</td>\n",
              "      <td>2497.000000</td>\n",
              "      <td>3152.000000</td>\n",
              "    </tr>\n",
              "    <tr>\n",
              "      <th>50%</th>\n",
              "      <td>0.498333</td>\n",
              "      <td>0.486733</td>\n",
              "      <td>0.626667</td>\n",
              "      <td>0.180975</td>\n",
              "      <td>713.000000</td>\n",
              "      <td>3662.000000</td>\n",
              "      <td>4548.000000</td>\n",
              "    </tr>\n",
              "    <tr>\n",
              "      <th>75%</th>\n",
              "      <td>0.655417</td>\n",
              "      <td>0.608602</td>\n",
              "      <td>0.730209</td>\n",
              "      <td>0.233214</td>\n",
              "      <td>1096.000000</td>\n",
              "      <td>4776.500000</td>\n",
              "      <td>5956.000000</td>\n",
              "    </tr>\n",
              "    <tr>\n",
              "      <th>max</th>\n",
              "      <td>0.861667</td>\n",
              "      <td>0.840896</td>\n",
              "      <td>0.972500</td>\n",
              "      <td>0.507463</td>\n",
              "      <td>3410.000000</td>\n",
              "      <td>6946.000000</td>\n",
              "      <td>8714.000000</td>\n",
              "    </tr>\n",
              "  </tbody>\n",
              "</table>\n",
              "</div>"
            ],
            "text/plain": [
              "             temp       atemp         hum   windspeed       casual  \\\n",
              "count  731.000000  731.000000  731.000000  731.000000   731.000000   \n",
              "mean     0.495385    0.474354    0.627894    0.190486   848.176471   \n",
              "std      0.183051    0.162961    0.142429    0.077498   686.622488   \n",
              "min      0.059130    0.079070    0.000000    0.022392     2.000000   \n",
              "25%      0.337083    0.337842    0.520000    0.134950   315.500000   \n",
              "50%      0.498333    0.486733    0.626667    0.180975   713.000000   \n",
              "75%      0.655417    0.608602    0.730209    0.233214  1096.000000   \n",
              "max      0.861667    0.840896    0.972500    0.507463  3410.000000   \n",
              "\n",
              "        registered          cnt  \n",
              "count   731.000000   731.000000  \n",
              "mean   3656.172367  4504.348837  \n",
              "std    1560.256377  1937.211452  \n",
              "min      20.000000    22.000000  \n",
              "25%    2497.000000  3152.000000  \n",
              "50%    3662.000000  4548.000000  \n",
              "75%    4776.500000  5956.000000  \n",
              "max    6946.000000  8714.000000  "
            ]
          },
          "execution_count": 38,
          "metadata": {},
          "output_type": "execute_result"
        }
      ],
      "source": [
        "datanumerik = data.iloc[:, 9:16]\n",
        "datanumerik.describe()\n"
      ]
    },
    {
      "cell_type": "markdown",
      "metadata": {
        "id": "Nvv_cWQrjbs-"
      },
      "source": [
        "##### Cleaning data"
      ]
    },
    {
      "cell_type": "markdown",
      "metadata": {},
      "source": [
        "**Membersihkan Peubah *dteday***"
      ]
    },
    {
      "cell_type": "code",
      "execution_count": 39,
      "metadata": {},
      "outputs": [
        {
          "name": "stdout",
          "output_type": "stream",
          "text": [
            "<class 'pandas.core.frame.DataFrame'>\n",
            "RangeIndex: 731 entries, 0 to 730\n",
            "Data columns (total 16 columns):\n",
            " #   Column      Non-Null Count  Dtype         \n",
            "---  ------      --------------  -----         \n",
            " 0   instant     731 non-null    int64         \n",
            " 1   dteday      731 non-null    datetime64[ns]\n",
            " 2   season      731 non-null    int64         \n",
            " 3   yr          731 non-null    int64         \n",
            " 4   mnth        731 non-null    int64         \n",
            " 5   holiday     731 non-null    int64         \n",
            " 6   weekday     731 non-null    int64         \n",
            " 7   workingday  731 non-null    int64         \n",
            " 8   weathersit  731 non-null    int64         \n",
            " 9   temp        731 non-null    float64       \n",
            " 10  atemp       731 non-null    float64       \n",
            " 11  hum         731 non-null    float64       \n",
            " 12  windspeed   731 non-null    float64       \n",
            " 13  casual      731 non-null    int64         \n",
            " 14  registered  731 non-null    int64         \n",
            " 15  cnt         731 non-null    int64         \n",
            "dtypes: datetime64[ns](1), float64(4), int64(11)\n",
            "memory usage: 91.5 KB\n"
          ]
        }
      ],
      "source": [
        "datetime_columns = [\"dteday\"]\n",
        "\n",
        "for column in datetime_columns:\n",
        "  data[column] = pd.to_datetime(data[column])\n",
        "\n",
        "data.info()"
      ]
    },
    {
      "cell_type": "markdown",
      "metadata": {},
      "source": [
        "Data sudah sesuai yang diinginkan"
      ]
    },
    {
      "cell_type": "markdown",
      "metadata": {},
      "source": [
        "**Membersihkan Peubah *season, yr, mnth, holiday, weekend, workingday, weathersit***"
      ]
    },
    {
      "cell_type": "code",
      "execution_count": 40,
      "metadata": {},
      "outputs": [
        {
          "name": "stdout",
          "output_type": "stream",
          "text": [
            "<class 'pandas.core.frame.DataFrame'>\n",
            "RangeIndex: 731 entries, 0 to 730\n",
            "Data columns (total 16 columns):\n",
            " #   Column      Non-Null Count  Dtype         \n",
            "---  ------      --------------  -----         \n",
            " 0   instant     731 non-null    int64         \n",
            " 1   dteday      731 non-null    datetime64[ns]\n",
            " 2   season      731 non-null    category      \n",
            " 3   yr          731 non-null    category      \n",
            " 4   mnth        731 non-null    category      \n",
            " 5   holiday     731 non-null    category      \n",
            " 6   weekday     731 non-null    category      \n",
            " 7   workingday  731 non-null    category      \n",
            " 8   weathersit  731 non-null    category      \n",
            " 9   temp        731 non-null    float64       \n",
            " 10  atemp       731 non-null    float64       \n",
            " 11  hum         731 non-null    float64       \n",
            " 12  windspeed   731 non-null    float64       \n",
            " 13  casual      731 non-null    int64         \n",
            " 14  registered  731 non-null    int64         \n",
            " 15  cnt         731 non-null    int64         \n",
            "dtypes: category(7), datetime64[ns](1), float64(4), int64(4)\n",
            "memory usage: 58.0 KB\n"
          ]
        }
      ],
      "source": [
        "datacategory_columns = ['season', 'yr', 'mnth', 'weekday', 'holiday', 'workingday', 'weathersit']\n",
        "\n",
        "for column in datacategory_columns:\n",
        "  data[column] = data[column].astype('category')\n",
        "\n",
        "data.info()"
      ]
    },
    {
      "cell_type": "markdown",
      "metadata": {},
      "source": [
        "Dapat dilihat bahwa tipe data pada peubah ***season, yr, mnth, holiday, weekday, workingday, weathersit*** sudah sesuai yaitu bertipe *category*."
      ]
    },
    {
      "cell_type": "markdown",
      "metadata": {
        "id": "gp-Y6wU38DC1"
      },
      "source": [
        "## Exploratory Data Analysis (EDA)"
      ]
    },
    {
      "cell_type": "code",
      "execution_count": 70,
      "metadata": {
        "colab": {
          "base_uri": "https://localhost:8080/",
          "height": 414
        },
        "id": "eMZu2-nolYK0",
        "outputId": "5a2ca420-a80e-45fd-d9f8-f8e03407bbdb"
      },
      "outputs": [
        {
          "name": "stdout",
          "output_type": "stream",
          "text": [
            "               temp        hum  windspeed  casual  registered      cnt\n",
            "season                                                                \n",
            "Springer  12.207650  58.290291  14.373984   60622      410726   471348\n",
            "Summer    22.320611  62.694833  13.634978  203522      715067   918589\n",
            "Fall      28.958682  63.348206  11.530366  226091      835038  1061129\n",
            "Winter    17.339148  66.871917  11.523637  129782      711831   841613\n"
          ]
        },
        {
          "name": "stderr",
          "output_type": "stream",
          "text": [
            "C:\\Users\\ACER\\AppData\\Local\\Temp\\ipykernel_20156\\1674016379.py:5: FutureWarning: The default of observed=False is deprecated and will be changed to True in a future version of pandas. Pass observed=False to retain current behavior or observed=True to adopt the future default and silence this warning.\n",
            "  datum = data.groupby(by=\"season\").agg({\n"
          ]
        }
      ],
      "source": [
        "# Mengganti nilai dalam kolom 'season' dengan label yang sesuai\n",
        "data['season'] = data['season'].replace({1: 'Springer', 2: 'Summer', 3: 'Fall', 4: 'Winter'})\n",
        "\n",
        "# Agregasi data, pada peubah temp, hum, serta windspeed dilakukan konversi pada nilai sebenarnya\n",
        "datum = data.groupby(by=\"season\").agg({\n",
        "    \"temp\": lambda x: x.mean() * 41,\n",
        "    \"hum\": lambda x: x.mean() * 100,\n",
        "    \"windspeed\": lambda x: x.mean() * 67,\n",
        "    \"casual\": \"sum\",\n",
        "    \"registered\": \"sum\",\n",
        "    \"cnt\": \"sum\"\n",
        "})\n",
        "print(datum)"
      ]
    },
    {
      "cell_type": "markdown",
      "metadata": {},
      "source": [
        "Dari pivot table diatas dapat dilihat bahwa jumah pengguna biasa (casual), jumlah pengguna terdaftar (registered) dan jumlah total sepeda sewaan termasuk casual dan registered **paling banyak** terdapat pada **season fall**, dan paling sedikit terdapat pada **season springer**.\n",
        "\n",
        "Pada **season fall** orang paling banyak menyewa sepeda, hal ini dapat disebabkan karena beberapa faktor diantaranya yaitu suhu yang sejuk (tidak terlalu panas atau terlalu dingin) rata-rata berkisar sekitar 28.9°C, lalu kelembapan udara yang nyaman dengan rata-rata berkisar 63.3, serta kecepatan angin yang menyegarkan (tidak terlalu kencang) dengan rata-rata berkisar 11.53 km/jam."
      ]
    },
    {
      "cell_type": "code",
      "execution_count": 42,
      "metadata": {
        "colab": {
          "base_uri": "https://localhost:8080/",
          "height": 678
        },
        "id": "8WxLx-qAludc",
        "outputId": "b26269f0-35ae-4332-8049-4c45b46ffc91"
      },
      "outputs": [
        {
          "name": "stdout",
          "output_type": "stream",
          "text": [
            "                 casual  registered      cnt\n",
            "workingday                                  \n",
            "Lainnya          316732      683537  1000269\n",
            "Weekend/Holiday  303285     1989125  2292410\n"
          ]
        },
        {
          "name": "stderr",
          "output_type": "stream",
          "text": [
            "C:\\Users\\ACER\\AppData\\Local\\Temp\\ipykernel_20156\\2589852071.py:3: FutureWarning: The default of observed=False is deprecated and will be changed to True in a future version of pandas. Pass observed=False to retain current behavior or observed=True to adopt the future default and silence this warning.\n",
            "  datum1= data.groupby(by=\"workingday\").agg({\n"
          ]
        }
      ],
      "source": [
        "# Mengganti nilai dalam kolom 'season' dengan label yang sesuai\n",
        "data['workingday'] = data['workingday'].replace({1: 'Weekend/Holiday', 0: 'Lainnya'})\n",
        "datum1= data.groupby(by=\"workingday\").agg({\n",
        "    \"casual\": \"sum\",\n",
        "    \"registered\": \"sum\",\n",
        "    \"cnt\": \"sum\"\n",
        "})\n",
        "print(datum1)"
      ]
    },
    {
      "cell_type": "markdown",
      "metadata": {
        "id": "zsyZjqak8DC2"
      },
      "source": [
        "## Visualization & Explanatory Analysis"
      ]
    },
    {
      "cell_type": "markdown",
      "metadata": {
        "id": "m-QBAZekmRuV"
      },
      "source": [
        "#### Data Visualization"
      ]
    },
    {
      "cell_type": "markdown",
      "metadata": {
        "id": "pCV8Ja3vEyaz"
      },
      "source": [
        "1. Pada musim apa saja total sewa sepeda paling banyak dan paling sedikit?"
      ]
    },
    {
      "cell_type": "markdown",
      "metadata": {},
      "source": [
        "Dari pivot table diatas dapat dilihat bahwa jumah pengguna biasa (casual), jumlah pengguna terdaftar (registered) dan jumlah total sepeda sewaan termasuk casual dan registered **paling banyak** terdapat pada **season fall**, dan paling sedikit terdapat pada **season springer**.\n",
        "\n",
        "Pada **season fall** orang paling banyak menyewa sepeda, hal ini dapat disebabkan karena beberapa faktor diantaranya yaitu suhu yang sejuk (tidak terlalu panas atau terlalu dingin) rata-rata berkisar sekitar 28.9°C, lalu kelembapan udara yang nyaman dengan rata-rata berkisar 63.3, serta kecepatan angin yang menyegarkan (tidak terlalu kencang) dengan rata-rata berkisar 11.53 km/jam."
      ]
    },
    {
      "cell_type": "code",
      "execution_count": 73,
      "metadata": {},
      "outputs": [
        {
          "name": "stderr",
          "output_type": "stream",
          "text": [
            "C:\\Users\\ACER\\AppData\\Local\\Temp\\ipykernel_20156\\2644531899.py:13: FutureWarning: The default of observed=False is deprecated and will be changed to True in a future version of pandas. Pass observed=False to retain current behavior or observed=True to adopt the future default and silence this warning.\n",
            "  season_counts = data.groupby('season')['cnt'].sum().reset_index()\n"
          ]
        },
        {
          "data": {
            "text/html": [
              "\n",
              "<style>\n",
              "  #altair-viz-c21cea5aba3b44b0be79a8ff9e593f2f.vega-embed {\n",
              "    width: 100%;\n",
              "    display: flex;\n",
              "  }\n",
              "\n",
              "  #altair-viz-c21cea5aba3b44b0be79a8ff9e593f2f.vega-embed details,\n",
              "  #altair-viz-c21cea5aba3b44b0be79a8ff9e593f2f.vega-embed details summary {\n",
              "    position: relative;\n",
              "  }\n",
              "</style>\n",
              "<div id=\"altair-viz-c21cea5aba3b44b0be79a8ff9e593f2f\"></div>\n",
              "<script type=\"text/javascript\">\n",
              "  var VEGA_DEBUG = (typeof VEGA_DEBUG == \"undefined\") ? {} : VEGA_DEBUG;\n",
              "  (function(spec, embedOpt){\n",
              "    let outputDiv = document.currentScript.previousElementSibling;\n",
              "    if (outputDiv.id !== \"altair-viz-c21cea5aba3b44b0be79a8ff9e593f2f\") {\n",
              "      outputDiv = document.getElementById(\"altair-viz-c21cea5aba3b44b0be79a8ff9e593f2f\");\n",
              "    }\n",
              "    const paths = {\n",
              "      \"vega\": \"https://cdn.jsdelivr.net/npm/vega@5?noext\",\n",
              "      \"vega-lib\": \"https://cdn.jsdelivr.net/npm/vega-lib?noext\",\n",
              "      \"vega-lite\": \"https://cdn.jsdelivr.net/npm/vega-lite@5.8.0?noext\",\n",
              "      \"vega-embed\": \"https://cdn.jsdelivr.net/npm/vega-embed@6?noext\",\n",
              "    };\n",
              "\n",
              "    function maybeLoadScript(lib, version) {\n",
              "      var key = `${lib.replace(\"-\", \"\")}_version`;\n",
              "      return (VEGA_DEBUG[key] == version) ?\n",
              "        Promise.resolve(paths[lib]) :\n",
              "        new Promise(function(resolve, reject) {\n",
              "          var s = document.createElement('script');\n",
              "          document.getElementsByTagName(\"head\")[0].appendChild(s);\n",
              "          s.async = true;\n",
              "          s.onload = () => {\n",
              "            VEGA_DEBUG[key] = version;\n",
              "            return resolve(paths[lib]);\n",
              "          };\n",
              "          s.onerror = () => reject(`Error loading script: ${paths[lib]}`);\n",
              "          s.src = paths[lib];\n",
              "        });\n",
              "    }\n",
              "\n",
              "    function showError(err) {\n",
              "      outputDiv.innerHTML = `<div class=\"error\" style=\"color:red;\">${err}</div>`;\n",
              "      throw err;\n",
              "    }\n",
              "\n",
              "    function displayChart(vegaEmbed) {\n",
              "      vegaEmbed(outputDiv, spec, embedOpt)\n",
              "        .catch(err => showError(`Javascript Error: ${err.message}<br>This usually means there's a typo in your chart specification. See the javascript console for the full traceback.`));\n",
              "    }\n",
              "\n",
              "    if(typeof define === \"function\" && define.amd) {\n",
              "      requirejs.config({paths});\n",
              "      require([\"vega-embed\"], displayChart, err => showError(`Error loading script: ${err.message}`));\n",
              "    } else {\n",
              "      maybeLoadScript(\"vega\", \"5\")\n",
              "        .then(() => maybeLoadScript(\"vega-lite\", \"5.8.0\"))\n",
              "        .then(() => maybeLoadScript(\"vega-embed\", \"6\"))\n",
              "        .catch(showError)\n",
              "        .then(() => displayChart(vegaEmbed));\n",
              "    }\n",
              "  })({\"config\": {\"view\": {\"continuousWidth\": 300, \"continuousHeight\": 300}}, \"data\": {\"name\": \"data-7729dca8fa3fe6fca888cffbb69b6476\"}, \"mark\": {\"type\": \"bar\"}, \"encoding\": {\"color\": {\"condition\": {\"test\": \"(datum.season === 'Fall')\", \"value\": \"steelblue\"}, \"value\": \"lightsteelblue\"}, \"tooltip\": [{\"field\": \"season\", \"type\": \"nominal\"}, {\"field\": \"cnt\", \"type\": \"quantitative\"}], \"x\": {\"axis\": {\"labelFontSize\": 20}, \"field\": \"season\", \"type\": \"nominal\"}, \"y\": {\"axis\": {\"labelFontSize\": 20}, \"field\": \"cnt\", \"type\": \"quantitative\"}}, \"height\": 800, \"title\": {\"text\": \"Total Sewa Sepeda berdasarkan Musim\", \"fontSize\": 29}, \"width\": 1000, \"$schema\": \"https://vega.github.io/schema/vega-lite/v5.8.0.json\", \"datasets\": {\"data-7729dca8fa3fe6fca888cffbb69b6476\": [{\"season\": \"Springer\", \"cnt\": 471348}, {\"season\": \"Summer\", \"cnt\": 918589}, {\"season\": \"Fall\", \"cnt\": 1061129}, {\"season\": \"Winter\", \"cnt\": 841613}]}}, {\"mode\": \"vega-lite\"});\n",
              "</script>"
            ],
            "text/plain": [
              "alt.Chart(...)"
            ]
          },
          "metadata": {},
          "output_type": "display_data"
        }
      ],
      "source": [
        "# Import necessary libraries\n",
        "import altair as alt\n",
        "import pandas as pd\n",
        "\n",
        "# Assuming data is already loaded into 'data' DataFrame\n",
        "\n",
        "# Mengganti nilai dalam kolom 'season' dengan label yang sesuai\n",
        "data['season'] = data['season'].replace({1: 'Springer', 2: 'Summer', 3: 'Fall', 4: 'Winter'})\n",
        "\n",
        "# Visualisasi dengan Altair\n",
        "def rental_by_season():\n",
        "    # Menghitung total sewa sepeda berdasarkan musim\n",
        "    season_counts = data.groupby('season')['cnt'].sum().reset_index()\n",
        "    \n",
        "    # Mencari musim dengan total sewa sepeda tertinggi dan terendah\n",
        "    max_season = season_counts.loc[season_counts['cnt'].idxmax()]\n",
        "    min_season = season_counts.loc[season_counts['cnt'].idxmin()]\n",
        "\n",
        "    # Konfigurasi ukuran font\n",
        "    text_font_size = 20\n",
        "\n",
        "    # Membuat chart menggunakan Altair\n",
        "    chart = alt.Chart(season_counts).mark_bar().encode(\n",
        "        x=alt.X('season:N', axis=alt.Axis(labelFontSize=text_font_size)),  \n",
        "        y=alt.Y('cnt:Q', axis=alt.Axis(labelFontSize=text_font_size)),     \n",
        "        color=alt.condition(\n",
        "            alt.datum.season == max_season['season'],\n",
        "            alt.value('steelblue'),\n",
        "            alt.value('lightsteelblue')\n",
        "        ),\n",
        "        tooltip=['season', 'cnt']\n",
        "    ).properties(\n",
        "        width=1000,\n",
        "        height=800,\n",
        "        title={\n",
        "            \"text\": \"Total Sewa Sepeda berdasarkan Musim\",\n",
        "            \"fontSize\": text_font_size + 9  # Atur ukuran font untuk judul  \n",
        "        }\n",
        "    )\n",
        "    \n",
        "    # Menampilkan chart\n",
        "    chart.display()\n",
        "\n",
        "# Panggil fungsi untuk menampilkan chart\n",
        "rental_by_season()\n"
      ]
    },
    {
      "cell_type": "markdown",
      "metadata": {
        "id": "UP2yDO6Xsy2A"
      },
      "source": [
        "2. Bagaimana total sewa sepeda?"
      ]
    },
    {
      "cell_type": "code",
      "execution_count": 71,
      "metadata": {},
      "outputs": [
        {
          "name": "stderr",
          "output_type": "stream",
          "text": [
            "C:\\Users\\ACER\\AppData\\Local\\Temp\\ipykernel_20156\\2170183878.py:12: FutureWarning: The default of observed=False is deprecated and will be changed to True in a future version of pandas. Pass observed=False to retain current behavior or observed=True to adopt the future default and silence this warning.\n",
            "  workingday_counts = data.groupby('workingday')['cnt'].sum().reset_index()\n"
          ]
        },
        {
          "data": {
            "text/html": [
              "\n",
              "<style>\n",
              "  #altair-viz-8cc3ac38bcb444dbab7dbd1f607fcef9.vega-embed {\n",
              "    width: 100%;\n",
              "    display: flex;\n",
              "  }\n",
              "\n",
              "  #altair-viz-8cc3ac38bcb444dbab7dbd1f607fcef9.vega-embed details,\n",
              "  #altair-viz-8cc3ac38bcb444dbab7dbd1f607fcef9.vega-embed details summary {\n",
              "    position: relative;\n",
              "  }\n",
              "</style>\n",
              "<div id=\"altair-viz-8cc3ac38bcb444dbab7dbd1f607fcef9\"></div>\n",
              "<script type=\"text/javascript\">\n",
              "  var VEGA_DEBUG = (typeof VEGA_DEBUG == \"undefined\") ? {} : VEGA_DEBUG;\n",
              "  (function(spec, embedOpt){\n",
              "    let outputDiv = document.currentScript.previousElementSibling;\n",
              "    if (outputDiv.id !== \"altair-viz-8cc3ac38bcb444dbab7dbd1f607fcef9\") {\n",
              "      outputDiv = document.getElementById(\"altair-viz-8cc3ac38bcb444dbab7dbd1f607fcef9\");\n",
              "    }\n",
              "    const paths = {\n",
              "      \"vega\": \"https://cdn.jsdelivr.net/npm/vega@5?noext\",\n",
              "      \"vega-lib\": \"https://cdn.jsdelivr.net/npm/vega-lib?noext\",\n",
              "      \"vega-lite\": \"https://cdn.jsdelivr.net/npm/vega-lite@5.8.0?noext\",\n",
              "      \"vega-embed\": \"https://cdn.jsdelivr.net/npm/vega-embed@6?noext\",\n",
              "    };\n",
              "\n",
              "    function maybeLoadScript(lib, version) {\n",
              "      var key = `${lib.replace(\"-\", \"\")}_version`;\n",
              "      return (VEGA_DEBUG[key] == version) ?\n",
              "        Promise.resolve(paths[lib]) :\n",
              "        new Promise(function(resolve, reject) {\n",
              "          var s = document.createElement('script');\n",
              "          document.getElementsByTagName(\"head\")[0].appendChild(s);\n",
              "          s.async = true;\n",
              "          s.onload = () => {\n",
              "            VEGA_DEBUG[key] = version;\n",
              "            return resolve(paths[lib]);\n",
              "          };\n",
              "          s.onerror = () => reject(`Error loading script: ${paths[lib]}`);\n",
              "          s.src = paths[lib];\n",
              "        });\n",
              "    }\n",
              "\n",
              "    function showError(err) {\n",
              "      outputDiv.innerHTML = `<div class=\"error\" style=\"color:red;\">${err}</div>`;\n",
              "      throw err;\n",
              "    }\n",
              "\n",
              "    function displayChart(vegaEmbed) {\n",
              "      vegaEmbed(outputDiv, spec, embedOpt)\n",
              "        .catch(err => showError(`Javascript Error: ${err.message}<br>This usually means there's a typo in your chart specification. See the javascript console for the full traceback.`));\n",
              "    }\n",
              "\n",
              "    if(typeof define === \"function\" && define.amd) {\n",
              "      requirejs.config({paths});\n",
              "      require([\"vega-embed\"], displayChart, err => showError(`Error loading script: ${err.message}`));\n",
              "    } else {\n",
              "      maybeLoadScript(\"vega\", \"5\")\n",
              "        .then(() => maybeLoadScript(\"vega-lite\", \"5.8.0\"))\n",
              "        .then(() => maybeLoadScript(\"vega-embed\", \"6\"))\n",
              "        .catch(showError)\n",
              "        .then(() => displayChart(vegaEmbed));\n",
              "    }\n",
              "  })({\"config\": {\"view\": {\"continuousWidth\": 300, \"continuousHeight\": 300}}, \"data\": {\"name\": \"data-3a4cb8ec38cdfc4cdf6293c16fe86979\"}, \"mark\": {\"type\": \"bar\"}, \"encoding\": {\"color\": {\"condition\": {\"test\": \"(datum.workingday === 'Weekend/Holiday')\", \"value\": \"steelblue\"}, \"value\": \"powderblue\"}, \"tooltip\": [{\"field\": \"workingday\", \"type\": \"nominal\"}, {\"field\": \"cnt\", \"type\": \"quantitative\"}], \"x\": {\"axis\": {\"labelFontSize\": 20}, \"field\": \"workingday\", \"type\": \"nominal\"}, \"y\": {\"axis\": {\"labelFontSize\": 20}, \"field\": \"cnt\", \"type\": \"quantitative\"}}, \"height\": 800, \"title\": {\"text\": \"Total Sewa Sepeda berdasarkan Workingday\", \"fontSize\": 29}, \"width\": 1000, \"$schema\": \"https://vega.github.io/schema/vega-lite/v5.8.0.json\", \"datasets\": {\"data-3a4cb8ec38cdfc4cdf6293c16fe86979\": [{\"workingday\": \"Lainnya\", \"cnt\": 1000269}, {\"workingday\": \"Weekend/Holiday\", \"cnt\": 2292410}]}}, {\"mode\": \"vega-lite\"});\n",
              "</script>"
            ],
            "text/plain": [
              "alt.Chart(...)"
            ]
          },
          "metadata": {},
          "output_type": "display_data"
        }
      ],
      "source": [
        "# Import necessary libraries\n",
        "import altair as alt\n",
        "import pandas as pd\n",
        "\n",
        "# Assuming data is already loaded into 'data' DataFrame\n",
        "\n",
        "# Mengganti nilai dalam kolom 'season' dengan label yang sesuai\n",
        "data['workingday'] = data['workingday'].replace({1: 'Weekend/Holiday', 0: 'Lainnya'})\n",
        "\n",
        "def rental_by_workingday():\n",
        "    # Menghitung total sewa sepeda berdasarkan workingday\n",
        "    workingday_counts = data.groupby('workingday')['cnt'].sum().reset_index()\n",
        "    \n",
        "    # Mencari workingday dengan total sewa sepeda tertinggi dan terendah\n",
        "    max_workingday = workingday_counts.loc[workingday_counts['cnt'].idxmax()]\n",
        "    min_workingday = workingday_counts.loc[workingday_counts['cnt'].idxmin()]\n",
        "\n",
        "    # Konfigurasi ukuran font\n",
        "    text_font_size = 20\n",
        "\n",
        "    # Membuat chart menggunakan Altair\n",
        "    chart = alt.Chart(workingday_counts).mark_bar().encode(\n",
        "        x=alt.X('workingday:N', axis=alt.Axis(labelFontSize=text_font_size)),  \n",
        "        y=alt.Y('cnt:Q', axis=alt.Axis(labelFontSize=text_font_size)),     \n",
        "        color=alt.condition(\n",
        "            alt.datum.workingday == max_workingday['workingday'],\n",
        "            alt.value('steelblue'),\n",
        "            alt.value('powderblue')\n",
        "        ),\n",
        "        tooltip=['workingday', 'cnt']\n",
        "    ).properties(\n",
        "        width=1000,\n",
        "        height=800,\n",
        "        title={\n",
        "            \"text\": \"Total Sewa Sepeda berdasarkan Workingday\",\n",
        "            \"fontSize\": text_font_size + 9  # Atur ukuran font untuk judul  \n",
        "        }\n",
        "    )\n",
        "    \n",
        "    # Menampilkan chart\n",
        "    chart.display()\n",
        "\n",
        "# Panggil fungsi untuk menampilkan chart\n",
        "rental_by_workingday()\n"
      ]
    },
    {
      "cell_type": "code",
      "execution_count": 53,
      "metadata": {
        "colab": {
          "base_uri": "https://localhost:8080/",
          "height": 625
        },
        "id": "1kIH0FnY1W1W",
        "outputId": "fe372400-97c1-4577-806d-4c54c38af126"
      },
      "outputs": [
        {
          "data": {
            "image/png": "[encoded data removed]",
            "text/plain": [
              "<Figure size 1000x500 with 1 Axes>"
            ]
          },
          "metadata": {},
          "output_type": "display_data"
        }
      ],
      "source": [
        "colors = [\"Yellow\", \"Brown\"]\n",
        "\n",
        "plt.figure(figsize=(10, 5))\n",
        "\n",
        "sns.barplot(\n",
        "    y=\"cnt\",\n",
        "    x=\"casual\",\n",
        "    data=datum1,\n",
        "    palette=colors\n",
        ")\n",
        "\n",
        "plt.xlabel(\"Jumlah\")\n",
        "plt.ylabel(\"Count of Total Rental Bikes\")\n",
        "plt.title(\"Count of Total Rental Bikes Depending\")\n",
        "plt.show()\n"
      ]
    },
    {
      "cell_type": "markdown",
      "metadata": {
        "id": "ZTcyR48Y8DC2"
      },
      "source": [
        "### Conclution pertanyaan 1\n"
      ]
    },
    {
      "cell_type": "markdown",
      "metadata": {
        "id": "MNpoejaK38A7"
      },
      "source": [
        "Jumlah total sepeda sewaan termasuk casual dan registered paling banyak terjadi ***season fall* (musim gugur)**, dan paling sedikit terjadi ***season springer* (musim semi)**. Ini mungkin disebabkan oleh preferensi pengguna terhadap bersepeda yang lebih tinggi selama musim gugur dibandingkan dengan musim semi. Musim gugur sering dianggap sebagai waktu yang nyaman untuk bersepeda karena suhu yang lebih sejuk dan cuaca yang lebih stabil dibandingkan dengan musim semi yang sering bervariasi. Selain itu, musim gugur juga sering kali menjadi waktu yang ramai dengan acara-acara seperti festival atau perayaan, yang dapat meningkatkan minat masyarakat untuk menggunakan layanan sewa sepeda. Informasi ini dapat memberikan wawasan yang berharga bagi perusahaan sewa sepeda untuk menyesuaikan strategi operasional mereka, seperti menyesuaikan inventaris sepeda dan promosi untuk lebih memanfaatkan permintaan yang tinggi selama musim gugur."
      ]
    },
    {
      "cell_type": "markdown",
      "metadata": {
        "id": "GHyYg3Xt55If"
      },
      "source": [
        "### Conclution pertanyaan 2"
      ]
    },
    {
      "cell_type": "markdown",
      "metadata": {
        "id": "xpI4aCc45-9E"
      },
      "source": [
        "Jumlah pengguna biasa (casual), jumlah pengguna terdaftar (registered), dan jumlah total sepeda sewaan termasuk casual dan registered paling banyak terjadi saat weekend/holiday, hal ini mungkin dikarenakan pada saat weekend/holiday seringkali menjadi waktu luang bagi banyak orang. Orang-orang cenderung memiliki lebih banyak waktu untuk melakukan aktivitas rekreasi atau bersantai, termasuk bersepeda. Informasi ini dapat memberikan wawasan yang berharga bagi perusahaan sewa sepeda untuk menyesuaikan strategi operasional mereka, seperti menyesuaikan inventaris sepeda dan promosi untuk lebih memanfaatkan permintaan yang tinggi selama weekend/holiday.\n"
      ]
    }
  ],
  "metadata": {
    "colab": {
      "provenance": []
    },
    "kernelspec": {
      "display_name": "Python 3",
      "language": "python",
      "name": "python3"
    },
    "language_info": {
      "codemirror_mode": {
        "name": "ipython",
        "version": 3
      },
      "file_extension": ".py",
      "mimetype": "text/x-python",
      "name": "python",
      "nbconvert_exporter": "python",
      "pygments_lexer": "ipython3",
      "version": "3.11.7"
    },
    "orig_nbformat": 4,
    "vscode": {
      "interpreter": {
        "hash": "972b3bf27e332e87b5379f2791f6ef9dfc79c71018c370b0d7423235e20fe4d7"
      }
    }
  },
  "nbformat": 4,
  "nbformat_minor": 0
}
